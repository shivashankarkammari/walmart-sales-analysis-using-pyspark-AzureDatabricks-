{
 "cells": [
  {
   "cell_type": "code",
   "execution_count": 0,
   "metadata": {
    "application/vnd.databricks.v1+cell": {
     "cellMetadata": {
      "byteLimit": 2048000,
      "rowLimit": 10000
     },
     "inputWidgets": {},
     "nuid": "cbf5ef7f-03a8-4f4d-bf9e-64628478b2db",
     "showTitle": false,
     "title": ""
    }
   },
   "outputs": [],
   "source": [
    "spark.conf.set(\n",
    "    \"fs.azure.account.key.AzureStorage_name.dfs.core.windows.net\",\n",
    "    \"AccessKey\"\n",
    ")"
   ]
  },
  {
   "cell_type": "code",
   "execution_count": 0,
   "metadata": {
    "application/vnd.databricks.v1+cell": {
     "cellMetadata": {
      "byteLimit": 2048000,
      "rowLimit": 10000
     },
     "inputWidgets": {},
     "nuid": "2033b82b-b819-4d38-ac92-65dc281ff087",
     "showTitle": false,
     "title": ""
    }
   },
   "outputs": [
    {
     "output_type": "display_data",
     "data": {
      "text/html": [
       "<style scoped>\n",
       "  .table-result-container {\n",
       "    max-height: 300px;\n",
       "    overflow: auto;\n",
       "  }\n",
       "  table, th, td {\n",
       "    border: 1px solid black;\n",
       "    border-collapse: collapse;\n",
       "  }\n",
       "  th, td {\n",
       "    padding: 5px;\n",
       "  }\n",
       "  th {\n",
       "    text-align: left;\n",
       "  }\n",
       "</style><div class='table-result-container'><table class='table-result'><thead style='background-color: white'><tr><th>path</th><th>name</th><th>size</th><th>modificationTime</th></tr></thead><tbody><tr><td>abfss://walmartsales@formula1db1.dfs.core.windows.net/WalmartSalesData.csv.csv</td><td>WalmartSalesData.csv.csv</td><td>134852</td><td>1704174609000</td></tr></tbody></table></div>"
      ]
     },
     "metadata": {
      "application/vnd.databricks.v1+output": {
       "addedWidgets": {},
       "aggData": [],
       "aggError": "",
       "aggOverflow": false,
       "aggSchema": [],
       "aggSeriesLimitReached": false,
       "aggType": "",
       "arguments": {},
       "columnCustomDisplayInfos": {},
       "data": [
        [
         "abfss://container_name@AzureStorage_name.dfs.core.windows.net/FileName",
         "FileName",
         134852,
         1704174609000
        ]
       ],
       "datasetInfos": [],
       "dbfsResultPath": null,
       "isJsonSchema": true,
       "metadata": {},
       "overflow": false,
       "plotOptions": {
        "customPlotOptions": {},
        "displayType": "table",
        "pivotAggregation": null,
        "pivotColumns": null,
        "xColumns": null,
        "yColumns": null
       },
       "removedWidgets": [],
       "schema": [
        {
         "metadata": "{}",
         "name": "path",
         "type": "\"string\""
        },
        {
         "metadata": "{}",
         "name": "name",
         "type": "\"string\""
        },
        {
         "metadata": "{}",
         "name": "size",
         "type": "\"long\""
        },
        {
         "metadata": "{}",
         "name": "modificationTime",
         "type": "\"long\""
        }
       ],
       "type": "table"
      }
     },
     "output_type": "display_data"
    }
   ],
   "source": [
    "display(dbutils.fs.ls(\n",
    "    \"abfss://container_name@AzureStorage_name.dfs.core.windows.net/\"\n",
    "))"
   ]
  },
  {
   "cell_type": "code",
   "execution_count": 0,
   "metadata": {
    "application/vnd.databricks.v1+cell": {
     "cellMetadata": {
      "byteLimit": 2048000,
      "rowLimit": 10000
     },
     "inputWidgets": {},
     "nuid": "04b56b48-32ee-4005-84c5-473f4e72c69a",
     "showTitle": false,
     "title": ""
    }
   },
   "outputs": [],
   "source": [
    "data = spark.read.option(\"header\",True).csv(\"abfss://container_name@AzureStorage_name.dfs.core.windows.net/FileName\")"
   ]
  },
  {
   "cell_type": "code",
   "execution_count": 0,
   "metadata": {
    "application/vnd.databricks.v1+cell": {
     "cellMetadata": {
      "byteLimit": 2048000,
      "rowLimit": 10000
     },
     "inputWidgets": {},
     "nuid": "5d6a791a-75ee-4463-965b-46b3c8aa23d4",
     "showTitle": false,
     "title": ""
    }
   },
   "outputs": [],
   "source": [
    "# display(data)\n"
   ]
  },
  {
   "cell_type": "markdown",
   "metadata": {
    "application/vnd.databricks.v1+cell": {
     "cellMetadata": {},
     "inputWidgets": {},
     "nuid": "9127c730-1d38-4202-a893-edb72255e6f0",
     "showTitle": false,
     "title": ""
    }
   },
   "source": [
    "### schema for the sales data"
   ]
  },
  {
   "cell_type": "code",
   "execution_count": 0,
   "metadata": {
    "application/vnd.databricks.v1+cell": {
     "cellMetadata": {
      "byteLimit": 2048000,
      "rowLimit": 10000
     },
     "inputWidgets": {},
     "nuid": "6fd858c6-90af-4e04-b172-18a20fb4627c",
     "showTitle": false,
     "title": ""
    }
   },
   "outputs": [],
   "source": [
    "sales_schema = StructType(fields= [StructField(\"invoice_id\",StringType(),True),\n",
    "                                   StructField(\"barnch\",StringType(),True),\n",
    "                                   StructField(\"city\",StringType(),True),\n",
    "                                   StructField(\"customer_type\",StringType(),True),\n",
    "                                   StructField(\"gender\",StringType(),True),\n",
    "                                   StructField(\"product_line\",StringType(),True),\n",
    "                                   StructField(\"unit_price\",FloatType(),True),\n",
    "                                   StructField(\"quantity\",IntegerType(),True),\n",
    "                                   StructField(\"VAT\",FloatType(),True),\n",
    "                                   StructField(\"total\",FloatType(),True),\n",
    "                                   StructField(\"date\",DateType(),True),\n",
    "                                   StructField(\"time\",StringType(),True),\n",
    "                                   StructField(\"payment_method\",StringType(),False),\n",
    "                                   StructField(\"cogs\",FloatType(),True),\n",
    "                                   StructField(\"gross_margin_percentage\",FloatType(),True),\n",
    "                                   StructField(\"gross_income\",FloatType(),True),\n",
    "                                   StructField(\"rating\",FloatType(),True)\n",
    "                                   ])"
   ]
  },
  {
   "cell_type": "code",
   "execution_count": 0,
   "metadata": {
    "application/vnd.databricks.v1+cell": {
     "cellMetadata": {
      "byteLimit": 2048000,
      "rowLimit": 10000
     },
     "inputWidgets": {},
     "nuid": "292f14a3-f675-457e-8c01-4d13672a4052",
     "showTitle": false,
     "title": ""
    }
   },
   "outputs": [],
   "source": [
    "salesData = spark.read.schema(sales_schema).option(\"header\",True).csv(\"abfss://container_name@AzureStorage_name.dfs.core.windows.net/FileName\")"
   ]
  },
  {
   "cell_type": "code",
   "execution_count": 0,
   "metadata": {
    "application/vnd.databricks.v1+cell": {
     "cellMetadata": {
      "byteLimit": 2048000,
      "rowLimit": 10000
     },
     "inputWidgets": {},
     "nuid": "921e3f07-8e5c-4e9e-aebf-5face3ad761f",
     "showTitle": false,
     "title": ""
    }
   },
   "outputs": [
    {
     "output_type": "stream",
     "name": "stdout",
     "output_type": "stream",
     "text": [
      "root\n |-- invoice_id: string (nullable = true)\n |-- barnch: string (nullable = true)\n |-- city: string (nullable = true)\n |-- customer_type: string (nullable = true)\n |-- gender: string (nullable = true)\n |-- product_line: string (nullable = true)\n |-- unit_price: float (nullable = true)\n |-- quantity: integer (nullable = true)\n |-- VAT: float (nullable = true)\n |-- total: float (nullable = true)\n |-- date: date (nullable = true)\n |-- time: string (nullable = true)\n |-- payment_method: string (nullable = true)\n |-- cogs: float (nullable = true)\n |-- gross_margin_percentage: float (nullable = true)\n |-- gross_income: float (nullable = true)\n |-- rating: float (nullable = true)\n\n"
     ]
    }
   ],
   "source": [
    "salesData.printSchema()"
   ]
  },
  {
   "cell_type": "code",
   "execution_count": 0,
   "metadata": {
    "application/vnd.databricks.v1+cell": {
     "cellMetadata": {
      "byteLimit": 2048000,
      "rowLimit": 10000
     },
     "inputWidgets": {},
     "nuid": "33fad296-2af0-4b81-adc4-a0886865661b",
     "showTitle": false,
     "title": ""
    }
   },
   "outputs": [
    {
     "output_type": "stream",
     "name": "stdout",
     "output_type": "stream",
     "text": [
      "+-----------+------+---------+-------------+------+--------------------+----------+--------+-------+--------+----------+--------+--------------+------+-----------------------+------------+------+\n| invoice_id|barnch|     city|customer_type|gender|        product_line|unit_price|quantity|    VAT|   total|      date|    time|payment_method|  cogs|gross_margin_percentage|gross_income|rating|\n+-----------+------+---------+-------------+------+--------------------+----------+--------+-------+--------+----------+--------+--------------+------+-----------------------+------------+------+\n|750-67-8428|     A|   Yangon|       Member|Female|   Health and beauty|     74.69|       7|26.1415|548.9715|2019-01-05|13:08:00|       Ewallet|522.83|              4.7619047|     26.1415|   9.1|\n|226-31-3081|     C|Naypyitaw|       Normal|Female|Electronic access...|     15.28|       5|   3.82|   80.22|2019-03-08|10:29:00|          Cash|  76.4|              4.7619047|        3.82|   9.6|\n|631-41-3108|     A|   Yangon|       Normal|  Male|  Home and lifestyle|     46.33|       7|16.2155|340.5255|2019-03-03|13:23:00|   Credit card|324.31|              4.7619047|     16.2155|   7.4|\n|123-19-1176|     A|   Yangon|       Member|  Male|   Health and beauty|     58.22|       8| 23.288| 489.048|2019-01-27|20:33:00|       Ewallet|465.76|              4.7619047|      23.288|   8.4|\n|373-73-7910|     A|   Yangon|       Normal|  Male|   Sports and travel|     86.31|       7|30.2085|634.3785|2019-02-08|10:37:00|       Ewallet|604.17|              4.7619047|     30.2085|   5.3|\n|699-14-3026|     C|Naypyitaw|       Normal|  Male|Electronic access...|     85.39|       7|29.8865|627.6165|2019-03-25|18:30:00|       Ewallet|597.73|              4.7619047|     29.8865|   4.1|\n|355-53-5943|     A|   Yangon|       Member|Female|Electronic access...|     68.84|       6| 20.652| 433.692|2019-02-25|14:36:00|       Ewallet|413.04|              4.7619047|      20.652|   5.8|\n|315-22-5665|     C|Naypyitaw|       Normal|Female|  Home and lifestyle|     73.56|      10|  36.78|  772.38|2019-02-24|11:38:00|       Ewallet| 735.6|              4.7619047|       36.78|   8.0|\n|665-32-9167|     A|   Yangon|       Member|Female|   Health and beauty|     36.26|       2|  3.626|  76.146|2019-01-10|17:15:00|   Credit card| 72.52|              4.7619047|       3.626|   7.2|\n|692-92-5582|     B| Mandalay|       Member|Female|  Food and beverages|     54.84|       3|  8.226| 172.746|2019-02-20|13:27:00|   Credit card|164.52|              4.7619047|       8.226|   5.9|\n+-----------+------+---------+-------------+------+--------------------+----------+--------+-------+--------+----------+--------+--------------+------+-----------------------+------------+------+\nonly showing top 10 rows\n\n"
     ]
    }
   ],
   "source": [
    "salesData.show(10)"
   ]
  },
  {
   "cell_type": "code",
   "execution_count": 0,
   "metadata": {
    "application/vnd.databricks.v1+cell": {
     "cellMetadata": {
      "byteLimit": 2048000,
      "rowLimit": 10000
     },
     "inputWidgets": {},
     "nuid": "8db11947-977c-42f9-85b7-500c99140787",
     "showTitle": false,
     "title": ""
    }
   },
   "outputs": [],
   "source": [
    "salesData.write.mode(\"overwrite\").parquet(\"abfss://walmartsales@formula1db1.dfs.core.windows.net/Walmartsalesresults/\")"
   ]
  },
  {
   "cell_type": "code",
   "execution_count": 0,
   "metadata": {
    "application/vnd.databricks.v1+cell": {
     "cellMetadata": {},
     "inputWidgets": {},
     "nuid": "7df0eaa0-9288-4b89-8403-c16252fc41aa",
     "showTitle": false,
     "title": ""
    }
   },
   "outputs": [],
   "source": []
  }
 ],
 "metadata": {
  "application/vnd.databricks.v1+notebook": {
   "dashboards": [],
   "language": "python",
   "notebookMetadata": {
    "pythonIndentUnit": 4
   },
   "notebookName": "1.DataIngestion",
   "widgets": {}
  }
 },
 "nbformat": 4,
 "nbformat_minor": 0
}
